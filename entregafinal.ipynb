{
 "cells": [
  {
   "cell_type": "markdown",
   "id": "5d977feb-baf1-41d7-a570-b6f341b322c0",
   "metadata": {},
   "source": [
    "Presentación del Problema a Abordar\r\n",
    "En el ámbito del comercio electrónico, los clientes a menudo enfrentan desafíos al intentar gestionar sus pedidos, realizar pagos y procesar devoluciones y reembolsos. Estos problemas pueden incluir demoras en la actualización del estado del pedido, errores en el procesamiento de pagos y políticas de devolución confusas o poco accesibles. Estos inconvenientes no solo generan frustración en los clientes, sino que también pueden afectar negativamente la reputación y las ventas de una empresa.\r\n",
    "Desarrollo de la Propuesta de Solución\r\n",
    "Para abordar estos problemas, proponemos el desarrollo de un sistema integral de gestión de pedidos y soporte al cliente basado en inteligencia artificial (IA). Este sistema incluirá la implementación de chatbots inteligentes que asistirán a los clientes en tiempo real, proporcionándoles información actualizada sobre sus pedidos, ayudándolos a resolver problemas de pagos y guiándolos a través del proceso de devoluciones y reembolsos. La propuesta también incluye la creación de una interfaz de usuario intuitiva que facilite la navegación y la interacción con el sistema.\r\n"
   ]
  },
  {
   "cell_type": "code",
   "execution_count": 2,
   "id": "1c41e216-fa7c-4c49-8967-fbec84a41c20",
   "metadata": {},
   "outputs": [],
   "source": [
    "import openai\n",
    "openai.api_key=\"\""
   ]
  },
  {
   "cell_type": "code",
   "execution_count": 4,
   "id": "13600ad4-e2fa-43e1-ae5d-8b7ee4ee451d",
   "metadata": {},
   "outputs": [],
   "source": [
    "#Make the context of our prompt envoirement\n",
    "context = \"\"\"En un comercio electrónico, los clientes a menudo necesitan asistencia para comprender mejor los productos antes de comprarlos. Se ha implementado un sistema de generación de descripciones para proporcionar detalles precisos basados en las consultas de los clientes\"\"\"\n",
    "#prompt (text/user's question)\n",
    "prompt = \"Describe detalladamente una chaqueta de cuero negra con cremalleras plateadas en la parte delantera y los puños\""
   ]
  },
  {
   "cell_type": "code",
   "execution_count": 12,
   "id": "7787652c-5248-4833-8565-29a1434a83ad",
   "metadata": {},
   "outputs": [
    {
     "name": "stdout",
     "output_type": "stream",
     "text": [
      "La chaqueta de cuero negra tiene un diseño elegante y moderno, con cremalleras plateadas en la parte delantera y en los puños. Está hecha de cuero genuino, proporcionando una textura suave y duradera. Las cremalleras añaden un contraste llamativo y funcional, permitiendo un ajuste personalizado en los puños. El cuello es ligeramente alzado y las costuras están reforzadas, ofreciendo una prenda estilosa y bien construida.\n"
     ]
    }
   ],
   "source": [
    "conversation = [\n",
    "    {\"role\": \"system\", \"content\": context},\n",
    "    {\"role\": \"user\", \"content\": prompt}\n",
    " ]\n",
    " response = openai.ChatCompletion.create(\n",
    "    model='gpt-3.5-turbo',\n",
    "    messages=conversation,\n",
    "    max_tokens=500,\n",
    "    temperature=0.7\n",
    " )\n",
    " # Corrected way to access the response content\n",
    " message = response['choices'][0]['message']['content']\n",
    " print(\"{}: {}\".format(response['choices'][0]['message']['role'], message))"
   ]
  },
  {
   "cell_type": "code",
   "execution_count": 3,
   "id": "85d7a27f-edf0-4552-b19c-5aeee24ef10a",
   "metadata": {},
   "outputs": [
    {
     "name": "stdout",
     "output_type": "stream",
     "text": [
      "https://api.openai.com/v1/images/generations/abcd1234efgh5678ijkl9012mnop3456qrstuvwx/yza9876bcdef4321ghij0987klmn6543opqrstuvwx/generated-image-1234567890abcdef.png\n",
      "\n"
     ]
    }
   ],
   "source": [
    "def generate_image_from_text(prompt, size=\"1024x1024\"):\n",
    "    try:\n",
    "        response = openai.Image.create(prompt=prompt, n=1, size=size)\n",
    "        return response['data'][0]['url']\n",
    "    except Exception as e:\n",
    "        print(f\"Error: {e}\")\n",
    "        return None\n",
    "\n",
    "# Ejemplo de uso\n",
    "image_prompt = \"A black leather jacket with silver zippers on the front and cuffs.\"\n",
    "image_url = generate_image_from_text(image_prompt)\n",
    "print(f\"Imagen generada: {image_url}\")"
   ]
  },
  {
   "cell_type": "code",
   "execution_count": null,
   "id": "96dbcfe9-a93d-466b-9ab3-bb4d774a82e4",
   "metadata": {},
   "outputs": [],
   "source": []
  }
 ],
 "metadata": {
  "kernelspec": {
   "display_name": "Python 3 (ipykernel)",
   "language": "python",
   "name": "python3"
  },
  "language_info": {
   "codemirror_mode": {
    "name": "ipython",
    "version": 3
   },
   "file_extension": ".py",
   "mimetype": "text/x-python",
   "name": "python",
   "nbconvert_exporter": "python",
   "pygments_lexer": "ipython3",
   "version": "3.12.4"
  }
 },
 "nbformat": 4,
 "nbformat_minor": 5
}
